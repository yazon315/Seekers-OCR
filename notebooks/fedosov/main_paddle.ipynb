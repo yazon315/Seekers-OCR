{
 "cells": [
  {
   "cell_type": "code",
   "execution_count": null,
   "metadata": {},
   "outputs": [],
   "source": [
    "# загрузка библиотеки для img2table + PaddleOCR\n",
    "%pip install img2table[paddle]\n",
    "# для совместимости требуется protobuf не выше 3.20.2\n",
    "%pip install --force-reinstall -v 'protobuf==3.20.2'"
   ]
  },
  {
   "cell_type": "code",
   "execution_count": 1,
   "metadata": {},
   "outputs": [],
   "source": [
    "# импорт библиотек\n",
    "import pandas as pd\n",
    "import cv2\n",
    "\n",
    "from img2table.document import Image as Image2\n",
    "from img2table.ocr import PaddleOCR\n",
    "\n",
    "from PIL import Image\n",
    "\n",
    "from IPython.display import display"
   ]
  },
  {
   "cell_type": "code",
   "execution_count": 2,
   "metadata": {},
   "outputs": [],
   "source": [
    "# функция для распознавания таблицы на изображении\n",
    "\n",
    "def itt(ocr, image, min_confidence=50, rotation=False):\n",
    "  # загрузка изображения с текстом\n",
    "  doc2 = Image2(image, detect_rotation=rotation)\n",
    "\n",
    "  # извлечение таблицы из изображения\n",
    "  extracted_table = doc2.extract_tables(ocr=ocr,\n",
    "                                        implicit_rows=True,\n",
    "                                        borderless_tables=False,\n",
    "                                        min_confidence=min_confidence)\n",
    "\n",
    "  try:\n",
    "    # перевод результата в датасет\n",
    "    data = extracted_table[0].df\n",
    "    return data\n",
    "  except IndexError:\n",
    "    print('Таблица не распознана')\n",
    "    return pd.DataFrame()"
   ]
  },
  {
   "cell_type": "code",
   "execution_count": 10,
   "metadata": {},
   "outputs": [],
   "source": [
    "# функция предобработки изображения 0\n",
    "# оставлен лучший вариант с переводом в оттенки серого и двойной фильтрацией\n",
    "# остальное закомментировано\n",
    "def prep0(img_path, output_path):\n",
    "    image = cv2.imread(img_path)\n",
    "    # размытие по Гаусу\n",
    "    #image = cv2.GaussianBlur(image, (5, 5), 0)\n",
    "    # срединное размытие\n",
    "    #image = cv2.medianBlur(image, 3)\n",
    "    # двусторонняя фильтрация\n",
    "    image = cv2.bilateralFilter(image,9,75,75)\n",
    "    # адаптивный порог (через оттенки серого)\n",
    "    image = cv2.cvtColor(image, cv2.COLOR_BGR2GRAY)\n",
    "    #cv2.adaptiveThreshold(image, 255, cv2.ADAPTIVE_THRESH_GAUSSIAN_C, cv2.THRESH_BINARY, 31, 2)\n",
    "    cv2.imwrite(output_path, image)\n",
    "    return"
   ]
  },
  {
   "cell_type": "code",
   "execution_count": 4,
   "metadata": {},
   "outputs": [],
   "source": [
    "# функция предобработки изображения 1\n",
    "def prep1(img_path, output_path):\n",
    "    image = cv2.imread(img_path)\n",
    "    gray = cv2.cvtColor(image, cv2.COLOR_BGR2GRAY)\n",
    "    sobel = cv2.Sobel(gray, cv2.CV_64F, 1, 0, ksize=3)\n",
    "    cv2.imwrite(output_path, sobel)"
   ]
  },
  {
   "cell_type": "code",
   "execution_count": 5,
   "metadata": {},
   "outputs": [],
   "source": [
    "# функция предобработки изображения 2\n",
    "def prep2(img_path, output_path):\n",
    "    image = cv2.imread(img_path)\n",
    "    lab = cv2.cvtColor(image, cv2.COLOR_BGR2LAB)\n",
    "    l_channel, a, b = cv2.split(lab)\n",
    "\n",
    "    clahe = cv2.createCLAHE(clipLimit=2.0, tileGridSize=(8,8))\n",
    "    cl = clahe.apply(l_channel)\n",
    "\n",
    "    limg = cv2.merge((cl, a, b))\n",
    "    enhanced_img = cv2.cvtColor(limg, cv2.COLOR_LAB2BGR)\n",
    "    cv2.imwrite(output_path, enhanced_img)"
   ]
  },
  {
   "cell_type": "code",
   "execution_count": 6,
   "metadata": {},
   "outputs": [],
   "source": [
    "# функция сравнения результатов распознавания и таблицы с реальными значениями\n",
    "# df1 - датасет с реальными значениями\n",
    "# df2 - датасет с результатами распознавания\n",
    "def compare_tables(df1, df2):\n",
    "    # считаем, что правильной является 1 таблица\n",
    "    \n",
    "    num_matching_cells = (df1 == df2).sum().sum()\n",
    "\n",
    "    total_cells = df1.size\n",
    "    \n",
    "    accuracy = num_matching_cells/total_cells\n",
    "    return num_matching_cells, total_cells, accuracy"
   ]
  },
  {
   "cell_type": "code",
   "execution_count": 11,
   "metadata": {},
   "outputs": [],
   "source": [
    "# применение к изображению tablica1.jpg функции предобработки 0,\n",
    "# затем функции предобработки 2 (как самой лучшей комбинации функций предобработки) \n",
    "# сохранение результата в tabl_temp.jpg\n",
    "prep0('tablica1.jpg', 'tabl_temp.jpg')\n",
    "prep2('tabl_temp.jpg', 'tabl_temp.jpg')"
   ]
  },
  {
   "cell_type": "code",
   "execution_count": 8,
   "metadata": {},
   "outputs": [],
   "source": [
    "# создание OCR из PaddleOCR\n",
    "ocr = PaddleOCR(lang='ru')"
   ]
  },
  {
   "cell_type": "code",
   "execution_count": 12,
   "metadata": {},
   "outputs": [
    {
     "data": {
      "text/html": [
       "<div>\n",
       "<style scoped>\n",
       "    .dataframe tbody tr th:only-of-type {\n",
       "        vertical-align: middle;\n",
       "    }\n",
       "\n",
       "    .dataframe tbody tr th {\n",
       "        vertical-align: top;\n",
       "    }\n",
       "\n",
       "    .dataframe thead th {\n",
       "        text-align: right;\n",
       "    }\n",
       "</style>\n",
       "<table border=\"1\" class=\"dataframe\">\n",
       "  <thead>\n",
       "    <tr style=\"text-align: right;\">\n",
       "      <th></th>\n",
       "      <th>0</th>\n",
       "      <th>1</th>\n",
       "      <th>2</th>\n",
       "      <th>3</th>\n",
       "      <th>4</th>\n",
       "      <th>5</th>\n",
       "      <th>6</th>\n",
       "      <th>7</th>\n",
       "      <th>8</th>\n",
       "    </tr>\n",
       "  </thead>\n",
       "  <tbody>\n",
       "    <tr>\n",
       "      <th>0</th>\n",
       "      <td>ата</td>\n",
       "      <td>Вид\\nдOH-EE</td>\n",
       "      <td>Кoлвo</td>\n",
       "      <td>Дата</td>\n",
       "      <td>Вид\\nдOHBа</td>\n",
       "      <td>олво</td>\n",
       "      <td>Дата</td>\n",
       "      <td>ид\\nDH-EE</td>\n",
       "      <td>Кoлbo</td>\n",
       "    </tr>\n",
       "    <tr>\n",
       "      <th>1</th>\n",
       "      <td>14022006</td>\n",
       "      <td>крд\\nбв</td>\n",
       "      <td>42о</td>\n",
       "      <td>15.O7</td>\n",
       "      <td>крд\\nбв</td>\n",
       "      <td>дђо</td>\n",
       "      <td>04.08.\\n2о</td>\n",
       "      <td>крд\\nбв</td>\n",
       "      <td>ђо</td>\n",
       "    </tr>\n",
       "    <tr>\n",
       "      <th>2</th>\n",
       "      <td>None</td>\n",
       "      <td>кргд\\nбв</td>\n",
       "      <td>зђо</td>\n",
       "      <td>1l0.206</td>\n",
       "      <td>крд\\nбв</td>\n",
       "      <td>Ао</td>\n",
       "      <td>26.12.2018</td>\n",
       "      <td>крд\\nбв</td>\n",
       "      <td>4зо</td>\n",
       "    </tr>\n",
       "    <tr>\n",
       "      <th>3</th>\n",
       "      <td>30.10.2014</td>\n",
       "      <td>крд\\nбв</td>\n",
       "      <td>ђо</td>\n",
       "      <td>22:2о16</td>\n",
       "      <td>крд\\nбв</td>\n",
       "      <td>дђо</td>\n",
       "      <td>29,03.2019</td>\n",
       "      <td>бв\\nкрд</td>\n",
       "      <td>Ађо</td>\n",
       "    </tr>\n",
       "    <tr>\n",
       "      <th>4</th>\n",
       "      <td>13.08.\\n2о5</td>\n",
       "      <td>крд\\nбв</td>\n",
       "      <td>до</td>\n",
       "      <td>2106.2017</td>\n",
       "      <td>крд\\nбв</td>\n",
       "      <td>Ађо</td>\n",
       "      <td>11102022</td>\n",
       "      <td>кргд\\nбв</td>\n",
       "      <td>дђо</td>\n",
       "    </tr>\n",
       "    <tr>\n",
       "      <th>5</th>\n",
       "      <td>3o.10.\\n2о</td>\n",
       "      <td>крд\\nбв</td>\n",
       "      <td>Ађо</td>\n",
       "      <td>None</td>\n",
       "      <td>None</td>\n",
       "      <td>None</td>\n",
       "      <td>None</td>\n",
       "      <td>None</td>\n",
       "      <td>None</td>\n",
       "    </tr>\n",
       "  </tbody>\n",
       "</table>\n",
       "</div>"
      ],
      "text/plain": [
       "             0            1      2          3           4     5           6  \\\n",
       "0          ата  Вид\\nдOH-EE  Кoлвo       Дата  Вид\\nдOHBа  олво        Дата   \n",
       "1     14022006      крд\\nбв    42о      15.O7     крд\\nбв   дђо  04.08.\\n2о   \n",
       "2         None     кргд\\nбв    зђо    1l0.206     крд\\nбв    Ао  26.12.2018   \n",
       "3   30.10.2014      крд\\nбв     ђо    22:2о16     крд\\nбв   дђо  29,03.2019   \n",
       "4  13.08.\\n2о5      крд\\nбв     до  2106.2017     крд\\nбв   Ађо    11102022   \n",
       "5   3o.10.\\n2о      крд\\nбв    Ађо       None        None  None        None   \n",
       "\n",
       "           7      8  \n",
       "0  ид\\nDH-EE  Кoлbo  \n",
       "1    крд\\nбв     ђо  \n",
       "2    крд\\nбв    4зо  \n",
       "3    бв\\nкрд    Ађо  \n",
       "4   кргд\\nбв    дђо  \n",
       "5       None   None  "
      ]
     },
     "metadata": {},
     "output_type": "display_data"
    }
   ],
   "source": [
    "# вызов функции распознавания таблиц (возвращает датафрейм df)\n",
    "df = itt(ocr, 'tabl_temp.jpg', 50, False)\n",
    "# отображение информации о датафрейме\n",
    "display(df)\n",
    "#print(df.info())"
   ]
  },
  {
   "cell_type": "code",
   "execution_count": 19,
   "metadata": {},
   "outputs": [
    {
     "ename": "ValueError",
     "evalue": "Can only compare identically-labeled (both index and columns) DataFrame objects",
     "output_type": "error",
     "traceback": [
      "\u001b[1;31m---------------------------------------------------------------------------\u001b[0m",
      "\u001b[1;31mValueError\u001b[0m                                Traceback (most recent call last)",
      "Cell \u001b[1;32mIn[19], line 4\u001b[0m\n\u001b[0;32m      2\u001b[0m df_test \u001b[39m=\u001b[39m pd\u001b[39m.\u001b[39mread_csv(\u001b[39m'\u001b[39m\u001b[39mtablica1.csv\u001b[39m\u001b[39m'\u001b[39m)\n\u001b[0;32m      3\u001b[0m \u001b[39m# вызов функции сравнения результата распознавания\u001b[39;00m\n\u001b[1;32m----> 4\u001b[0m num_matching_cells, total_cells, accuracy \u001b[39m=\u001b[39m compare_tables(df_test, df)\n\u001b[0;32m      5\u001b[0m \u001b[39m# вывод результата сверки\u001b[39;00m\n\u001b[0;32m      6\u001b[0m \u001b[39mprint\u001b[39m(\u001b[39m'\u001b[39m\u001b[39mПроцент правильно распознанных ячеек:\u001b[39m\u001b[39m'\u001b[39m, accuracy)\n",
      "Cell \u001b[1;32mIn[6], line 7\u001b[0m, in \u001b[0;36mcompare_tables\u001b[1;34m(df1, df2)\u001b[0m\n\u001b[0;32m      4\u001b[0m \u001b[39mdef\u001b[39;00m \u001b[39mcompare_tables\u001b[39m(df1, df2):\n\u001b[0;32m      5\u001b[0m     \u001b[39m# считаем, что правильной является 1 таблица\u001b[39;00m\n\u001b[1;32m----> 7\u001b[0m     num_matching_cells \u001b[39m=\u001b[39m (df1 \u001b[39m==\u001b[39;49m df2)\u001b[39m.\u001b[39msum()\u001b[39m.\u001b[39msum()\n\u001b[0;32m      9\u001b[0m     total_cells \u001b[39m=\u001b[39m df1\u001b[39m.\u001b[39msize\n\u001b[0;32m     11\u001b[0m     accuracy \u001b[39m=\u001b[39m num_matching_cells\u001b[39m/\u001b[39mtotal_cells\n",
      "File \u001b[1;32mc:\\Users\\Victor\\anaconda3\\lib\\site-packages\\pandas\\core\\ops\\common.py:81\u001b[0m, in \u001b[0;36m_unpack_zerodim_and_defer.<locals>.new_method\u001b[1;34m(self, other)\u001b[0m\n\u001b[0;32m     77\u001b[0m             \u001b[39mreturn\u001b[39;00m \u001b[39mNotImplemented\u001b[39m\n\u001b[0;32m     79\u001b[0m other \u001b[39m=\u001b[39m item_from_zerodim(other)\n\u001b[1;32m---> 81\u001b[0m \u001b[39mreturn\u001b[39;00m method(\u001b[39mself\u001b[39;49m, other)\n",
      "File \u001b[1;32mc:\\Users\\Victor\\anaconda3\\lib\\site-packages\\pandas\\core\\arraylike.py:40\u001b[0m, in \u001b[0;36mOpsMixin.__eq__\u001b[1;34m(self, other)\u001b[0m\n\u001b[0;32m     38\u001b[0m \u001b[39m@unpack_zerodim_and_defer\u001b[39m(\u001b[39m\"\u001b[39m\u001b[39m__eq__\u001b[39m\u001b[39m\"\u001b[39m)\n\u001b[0;32m     39\u001b[0m \u001b[39mdef\u001b[39;00m \u001b[39m__eq__\u001b[39m(\u001b[39mself\u001b[39m, other):\n\u001b[1;32m---> 40\u001b[0m     \u001b[39mreturn\u001b[39;00m \u001b[39mself\u001b[39;49m\u001b[39m.\u001b[39;49m_cmp_method(other, operator\u001b[39m.\u001b[39;49meq)\n",
      "File \u001b[1;32mc:\\Users\\Victor\\anaconda3\\lib\\site-packages\\pandas\\core\\frame.py:7442\u001b[0m, in \u001b[0;36mDataFrame._cmp_method\u001b[1;34m(self, other, op)\u001b[0m\n\u001b[0;32m   7439\u001b[0m \u001b[39mdef\u001b[39;00m \u001b[39m_cmp_method\u001b[39m(\u001b[39mself\u001b[39m, other, op):\n\u001b[0;32m   7440\u001b[0m     axis: Literal[\u001b[39m1\u001b[39m] \u001b[39m=\u001b[39m \u001b[39m1\u001b[39m  \u001b[39m# only relevant for Series other case\u001b[39;00m\n\u001b[1;32m-> 7442\u001b[0m     \u001b[39mself\u001b[39m, other \u001b[39m=\u001b[39m ops\u001b[39m.\u001b[39;49malign_method_FRAME(\u001b[39mself\u001b[39;49m, other, axis, flex\u001b[39m=\u001b[39;49m\u001b[39mFalse\u001b[39;49;00m, level\u001b[39m=\u001b[39;49m\u001b[39mNone\u001b[39;49;00m)\n\u001b[0;32m   7444\u001b[0m     \u001b[39m# See GH#4537 for discussion of scalar op behavior\u001b[39;00m\n\u001b[0;32m   7445\u001b[0m     new_data \u001b[39m=\u001b[39m \u001b[39mself\u001b[39m\u001b[39m.\u001b[39m_dispatch_frame_op(other, op, axis\u001b[39m=\u001b[39maxis)\n",
      "File \u001b[1;32mc:\\Users\\Victor\\anaconda3\\lib\\site-packages\\pandas\\core\\ops\\__init__.py:313\u001b[0m, in \u001b[0;36malign_method_FRAME\u001b[1;34m(left, right, axis, flex, level)\u001b[0m\n\u001b[0;32m    311\u001b[0m             left, right \u001b[39m=\u001b[39m left\u001b[39m.\u001b[39malign(right, join\u001b[39m=\u001b[39m\u001b[39m\"\u001b[39m\u001b[39mouter\u001b[39m\u001b[39m\"\u001b[39m, level\u001b[39m=\u001b[39mlevel, copy\u001b[39m=\u001b[39m\u001b[39mFalse\u001b[39;00m)\n\u001b[0;32m    312\u001b[0m         \u001b[39melse\u001b[39;00m:\n\u001b[1;32m--> 313\u001b[0m             \u001b[39mraise\u001b[39;00m \u001b[39mValueError\u001b[39;00m(\n\u001b[0;32m    314\u001b[0m                 \u001b[39m\"\u001b[39m\u001b[39mCan only compare identically-labeled (both index and columns) \u001b[39m\u001b[39m\"\u001b[39m\n\u001b[0;32m    315\u001b[0m                 \u001b[39m\"\u001b[39m\u001b[39mDataFrame objects\u001b[39m\u001b[39m\"\u001b[39m\n\u001b[0;32m    316\u001b[0m             )\n\u001b[0;32m    317\u001b[0m \u001b[39melif\u001b[39;00m \u001b[39misinstance\u001b[39m(right, ABCSeries):\n\u001b[0;32m    318\u001b[0m     \u001b[39m# axis=1 is default for DataFrame-with-Series op\u001b[39;00m\n\u001b[0;32m    319\u001b[0m     axis \u001b[39m=\u001b[39m left\u001b[39m.\u001b[39m_get_axis_number(axis) \u001b[39mif\u001b[39;00m axis \u001b[39mis\u001b[39;00m \u001b[39mnot\u001b[39;00m \u001b[39mNone\u001b[39;00m \u001b[39melse\u001b[39;00m \u001b[39m1\u001b[39m\n",
      "\u001b[1;31mValueError\u001b[0m: Can only compare identically-labeled (both index and columns) DataFrame objects"
     ]
    }
   ],
   "source": [
    "# загрузка проверочного файла csv\n",
    "df_test = pd.read_csv('tablica1.csv')\n",
    "# вызов функции сравнения результата распознавания\n",
    "num_matching_cells, total_cells, accuracy = compare_tables(df_test, df)\n",
    "# вывод результата сверки\n",
    "print('Процент правильно распознанных ячеек:', accuracy)"
   ]
  }
 ],
 "metadata": {
  "kernelspec": {
   "display_name": "base",
   "language": "python",
   "name": "python3"
  },
  "language_info": {
   "codemirror_mode": {
    "name": "ipython",
    "version": 3
   },
   "file_extension": ".py",
   "mimetype": "text/x-python",
   "name": "python",
   "nbconvert_exporter": "python",
   "pygments_lexer": "ipython3",
   "version": "3.9.13"
  },
  "orig_nbformat": 4
 },
 "nbformat": 4,
 "nbformat_minor": 2
}
