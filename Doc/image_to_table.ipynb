{
 "cells": [
  {
   "cell_type": "code",
   "execution_count": null,
   "metadata": {},
   "outputs": [],
   "source": [
    "%pip install pytesseract\n",
    "%pip install pillow\n",
    "%pip install img2table"
   ]
  },
  {
   "cell_type": "code",
   "execution_count": 1,
   "metadata": {},
   "outputs": [
    {
     "name": "stdout",
     "output_type": "stream",
     "text": [
      "Таблица сложения до 10\n",
      "ЕЕ\n",
      "резко зат анк зо вю |\n",
      "\n",
      "пе [ные Г\n",
      "па ыныыю ||\n",
      "Е ОО О О\n",
      "С О О О\n",
      "О О ОО О ОО ООО\n",
      "\n",
      "\n"
     ]
    }
   ],
   "source": [
    "# 1. Использование pytesseract\n",
    "\n",
    "import pytesseract\n",
    "from PIL import Image\n",
    "\n",
    "# загрузка изображения с текстом\n",
    "doc1 = Image.open('tablica.jpg')\n",
    "\n",
    "# распознавание текста\n",
    "string = pytesseract.image_to_string(doc1, lang='rus')\n",
    "\n",
    "# вывод распознанного текста\n",
    "print(string)"
   ]
  },
  {
   "cell_type": "code",
   "execution_count": 2,
   "metadata": {},
   "outputs": [
    {
     "name": "stdout",
     "output_type": "stream",
     "text": [
      "Распознанная таблица в виде датасета:\n",
      "\n",
      "<class 'pandas.core.frame.DataFrame'>\n",
      "RangeIndex: 2 entries, 0 to 1\n",
      "Data columns (total 4 columns):\n",
      " #   Column  Non-Null Count  Dtype \n",
      "---  ------  --------------  ----- \n",
      " 0   0       1 non-null      object\n",
      " 1   1       1 non-null      object\n",
      " 2   2       1 non-null      object\n",
      " 3   3       1 non-null      object\n",
      "dtypes: object(4)\n",
      "memory usage: 192.0+ bytes\n",
      "None\n"
     ]
    },
    {
     "data": {
      "text/html": [
       "<div>\n",
       "<style scoped>\n",
       "    .dataframe tbody tr th:only-of-type {\n",
       "        vertical-align: middle;\n",
       "    }\n",
       "\n",
       "    .dataframe tbody tr th {\n",
       "        vertical-align: top;\n",
       "    }\n",
       "\n",
       "    .dataframe thead th {\n",
       "        text-align: right;\n",
       "    }\n",
       "</style>\n",
       "<table border=\"1\" class=\"dataframe\">\n",
       "  <thead>\n",
       "    <tr style=\"text-align: right;\">\n",
       "      <th></th>\n",
       "      <th>0</th>\n",
       "      <th>1</th>\n",
       "      <th>2</th>\n",
       "      <th>3</th>\n",
       "    </tr>\n",
       "  </thead>\n",
       "  <tbody>\n",
       "    <tr>\n",
       "      <th>0</th>\n",
       "      <td>None</td>\n",
       "      <td>А</td>\n",
       "      <td>О</td>\n",
       "      <td>О</td>\n",
       "    </tr>\n",
       "    <tr>\n",
       "      <th>1</th>\n",
       "      <td>в</td>\n",
       "      <td>None</td>\n",
       "      <td>None</td>\n",
       "      <td>None</td>\n",
       "    </tr>\n",
       "  </tbody>\n",
       "</table>\n",
       "</div>"
      ],
      "text/plain": [
       "      0     1     2     3\n",
       "0  None     А     О     О\n",
       "1     в  None  None  None"
      ]
     },
     "metadata": {},
     "output_type": "display_data"
    },
    {
     "data": {
      "text/html": [
       "<h3 style=\"text-align: center\">Распознанная таблица</h3>\n",
       "                   <p style=\"text-align: center\">\n",
       "                       <b>Title:</b> Таблица сложения\n",
       "до 10<br>\n",
       "                       <b>Bounding box:</b> x1=121, y1=1686, x2=3009, y2=2417\n",
       "                   </p>\n",
       "                   <div align=\"center\"><table border=\"1\" class=\"dataframe\">\n",
       "  <thead>\n",
       "    <tr style=\"text-align: right;\">\n",
       "      <th></th>\n",
       "      <th>0</th>\n",
       "      <th>1</th>\n",
       "      <th>2</th>\n",
       "      <th>3</th>\n",
       "    </tr>\n",
       "  </thead>\n",
       "  <tbody>\n",
       "    <tr>\n",
       "      <th>0</th>\n",
       "      <td></td>\n",
       "      <td>А</td>\n",
       "      <td>О</td>\n",
       "      <td>О</td>\n",
       "    </tr>\n",
       "    <tr>\n",
       "      <th>1</th>\n",
       "      <td>в</td>\n",
       "      <td></td>\n",
       "      <td></td>\n",
       "      <td></td>\n",
       "    </tr>\n",
       "  </tbody>\n",
       "</table></div>\n",
       "                   <hr>\n",
       "                "
      ]
     },
     "metadata": {},
     "output_type": "display_data"
    }
   ],
   "source": [
    "# 2. Использование img2table с TesseractOCR\n",
    "\n",
    "from img2table.document import Image as Image2\n",
    "from img2table.ocr import TesseractOCR\n",
    "from IPython.display import display_html\n",
    "from IPython.display import display\n",
    "\n",
    "# создание OCR из TesseractOCR\n",
    "ocr = TesseractOCR(n_threads=1, lang=\"rus\")\n",
    "\n",
    "# загрузка изображения с текстом\n",
    "doc2 = Image2('tablica.jpg', detect_rotation=False)\n",
    "\n",
    "# извлечение таблицы из изображения\n",
    "extracted_table = doc2.extract_tables(ocr=ocr,\n",
    "                                      implicit_rows=True,\n",
    "                                      borderless_tables=False,\n",
    "                                      min_confidence=0)\n",
    "\n",
    "# извлечение таблицы из изображения в xlsx файл\n",
    "doc2.to_xlsx('tables.xlsx', ocr=ocr,\n",
    "                           implicit_rows=True,\n",
    "                           borderless_tables=False,\n",
    "                           min_confidence=10)\n",
    "\n",
    "# перевод результата в датасет\n",
    "data = extracted_table[0].df\n",
    "print('Распознанная таблица в виде датасета:\\n')\n",
    "print(data.info())\n",
    "display(data)\n",
    "\n",
    "# отображение результата через display_html\n",
    "table = extracted_table.pop()\n",
    "display_html(table.html_repr(title='Распознанная таблица'), raw=True)"
   ]
  },
  {
   "cell_type": "code",
   "execution_count": 1,
   "metadata": {},
   "outputs": [],
   "source": [
    "# 3. Поиск прямоугольников на изображениях\n",
    "\n",
    "import sys\n",
    "import numpy as np\n",
    "import cv2 as cv\n",
    "\n",
    "hsv_min = np.array((0, 54, 5), np.uint8)\n",
    "hsv_max = np.array((187, 255, 253), np.uint8)\n",
    "\n",
    "if __name__ == '__main__':\n",
    "    fn = 'tablica.jpg' # имя файла, который будем анализировать\n",
    "    img = cv.imread(fn)\n",
    "\n",
    "    hsv = cv.cvtColor( img, cv.COLOR_BGR2HSV ) # меняем цветовую модель с BGR на HSV\n",
    "    thresh = cv.inRange( hsv, hsv_min, hsv_max ) # применяем цветовой фильтр\n",
    "    contours0, hierarchy = cv.findContours( thresh.copy(), cv.RETR_TREE, cv.CHAIN_APPROX_SIMPLE)\n",
    "    \n",
    "    # перебираем все найденные контуры в цикле\n",
    "    for cnt in contours0:\n",
    "        rect = cv.minAreaRect(cnt) # пытаемся вписать прямоугольник\n",
    "        box = cv.boxPoints(rect) # поиск четырех вершин прямоугольника\n",
    "        box = np.int0(box) # округление координат\n",
    "        cv.drawContours(img,[box],0,(255,0,0),2) # рисуем прямоугольник\n",
    "\n",
    "    cv.imshow('contours', img) # вывод обработанного кадра в окно\n",
    "\n",
    "    cv.waitKey()\n",
    "    cv.destroyAllWindows()"
   ]
  }
 ],
 "metadata": {
  "kernelspec": {
   "display_name": "Python 3.8.10 64-bit",
   "language": "python",
   "name": "python3"
  },
  "language_info": {
   "codemirror_mode": {
    "name": "ipython",
    "version": 3
   },
   "file_extension": ".py",
   "mimetype": "text/x-python",
   "name": "python",
   "nbconvert_exporter": "python",
   "pygments_lexer": "ipython3",
   "version": "3.8.10"
  },
  "orig_nbformat": 4,
  "vscode": {
   "interpreter": {
    "hash": "998d7648dd755371a7ba8fe881a42807a5528e9c57c793fb17dd78daafcc3440"
   }
  }
 },
 "nbformat": 4,
 "nbformat_minor": 2
}
