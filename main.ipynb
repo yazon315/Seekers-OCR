{
 "cells": [
  {
   "cell_type": "code",
   "execution_count": 2,
   "metadata": {},
   "outputs": [],
   "source": [
    "# импорт библиотек\n",
    "import cv2\n",
    "import numpy as np\n",
    "import pandas as pd\n",
    "import pytesseract\n",
    "import easyocr\n",
    "import re\n",
    "import os\n",
    "import time\n",
    "\n",
    "from PIL import Image\n",
    "\n",
    "from IPython.display import display"
   ]
  },
  {
   "cell_type": "markdown",
   "metadata": {},
   "source": [
    "## Функции"
   ]
  },
  {
   "cell_type": "markdown",
   "metadata": {},
   "source": [
    "### Функция вырезания таблицы из изображения `crop_img`"
   ]
  },
  {
   "cell_type": "code",
   "execution_count": 3,
   "metadata": {},
   "outputs": [],
   "source": [
    "# функция для вырезания таблицы из изображения\n",
    "def crop_img(img_path, output_path):\n",
    "    # Считывание изображения\n",
    "    img = Image.open(img_path)\n",
    "    img = np.array(img)\n",
    "    if img.ndim == 3 and img.shape[2] == 3:\n",
    "        img = cv2.cvtColor(img, cv2.COLOR_BGR2GRAY)\n",
    "    \n",
    "    # Присвоение изображению порогового значения в виде двоичного изображения\n",
    "    img_bin = cv2.adaptiveThreshold(img, 255, cv2.ADAPTIVE_THRESH_MEAN_C, cv2.THRESH_BINARY_INV, 21, 10)\n",
    "    \n",
    "    # Обнаружение контуров\n",
    "    contours, _ = cv2.findContours(img_bin, cv2.RETR_EXTERNAL, cv2.CHAIN_APPROX_SIMPLE)\n",
    "    \n",
    "    # Определение самого большого контура\n",
    "    largest_contour = max(contours, key=cv2.contourArea)\n",
    "    \n",
    "    # Обрезание по этому контуру\n",
    "    x, y, w, h = cv2.boundingRect(largest_contour)\n",
    "    cropped_image = img[y:y+h, x:x+w]\n",
    "    \n",
    "    # Сохранение\n",
    "    cv2.imwrite(output_path, cropped_image)\n",
    "\n",
    "    return cropped_image"
   ]
  },
  {
   "cell_type": "markdown",
   "metadata": {},
   "source": [
    "### Функция распознавания `img2table`"
   ]
  },
  {
   "cell_type": "code",
   "execution_count": 4,
   "metadata": {},
   "outputs": [],
   "source": [
    "# функция для распознавания таблиц с изображения\n",
    "# pytesseract для текста + EasyOCR для недостающих (digit=0)\n",
    "# или + EasyOCR для цифр (digit=1)\n",
    "def img2table(img_path, output_path, digit=1):\n",
    "    # Считывание изображения\n",
    "    #img = Image.open(img_path)\n",
    "    #img = np.array(img)\n",
    "    img = img_path\n",
    "    if img.ndim == 3 and img.shape[2] == 3:\n",
    "        img = cv2.cvtColor(img, cv2.COLOR_BGR2GRAY)\n",
    "\n",
    "    # Присвоение изображению порогового значения в виде двоичного изображения\n",
    "    img_bin = cv2.adaptiveThreshold(img, 255, cv2.ADAPTIVE_THRESH_MEAN_C, cv2.THRESH_BINARY_INV, 21, 10)\n",
    "\n",
    "    # Ширина ядра как 100-я часть общей ширины\n",
    "    kernel_len = np.array(img).shape[1] // 100\n",
    "\n",
    "    # Определение вертикального и горизонтального ядер\n",
    "    ver_kernel = cv2.getStructuringElement(cv2.MORPH_RECT, (1, kernel_len))\n",
    "    hor_kernel = cv2.getStructuringElement(cv2.MORPH_RECT, (kernel_len, 1))\n",
    "\n",
    "    # Ядро размером 2x2\n",
    "    kernel = cv2.getStructuringElement(cv2.MORPH_RECT, (2, 2))\n",
    "\n",
    "    # Обнаружение вертикальных и горизонтальных линий\n",
    "    image_1 = cv2.erode(img_bin, ver_kernel, iterations=3)\n",
    "    vertical_lines = cv2.dilate(image_1, ver_kernel, iterations=3)\n",
    "\n",
    "    image_2 = cv2.erode(img_bin, hor_kernel, iterations=3)\n",
    "    horizontal_lines = cv2.dilate(image_2, hor_kernel, iterations=3)\n",
    "\n",
    "    # Объединение горизонтальных и вертикальных линий в новом изображении\n",
    "    img_vh = cv2.addWeighted(vertical_lines, 0.5, horizontal_lines, 0.5, 0.0)\n",
    "\n",
    "    # Размывание и установление порогового значения\n",
    "    img_vh = cv2.erode(~img_vh, kernel, iterations=2)\n",
    "    _, img_vh = cv2.threshold(img_vh, 128, 255, cv2.THRESH_BINARY | cv2.THRESH_OTSU)\n",
    "\n",
    "    # Обнаружение контуров\n",
    "    contours, _ = cv2.findContours(img_vh, cv2.RETR_TREE, cv2.CHAIN_APPROX_SIMPLE)\n",
    "\n",
    "    # Преобразование tuple в list\n",
    "    contours = list(contours)\n",
    "    contours.reverse()\n",
    "\n",
    "    # Подсчёт вертикальных линий (столбцов)\n",
    "    num_vertical_lines = 1\n",
    "    for contour in contours:\n",
    "        x, y, w, h = cv2.boundingRect(contour)\n",
    "        \n",
    "        if w > 20 and h > 20 and w < 500 and h < 500:\n",
    "            num_vertical_lines = int(img.shape[1] / w)\n",
    "            break\n",
    "    \n",
    "    texts = []\n",
    "    # Итерация по каждому контуру (ячейке)\n",
    "    for contour in contours:\n",
    "        \n",
    "        # Получение координат ограничивающего прямоугольника вокруг контура\n",
    "        x, y, w, h = cv2.boundingRect(contour)\n",
    "        if w > 20 and h > 20 and w < 500 and h < 500:\n",
    "            cell_image = img[y:y + h, x:x + w]\n",
    "        \n",
    "            # Получение текста с ячейки\n",
    "            text = pytesseract.image_to_string(cell_image, lang='rus')\n",
    "\n",
    "            if digit == 0: # вариант \"EasyOCR для недостающих\"\n",
    "                if text == '':\n",
    "                    results = reader.readtext(cell_image)\n",
    "                    if len(results) > 0:\n",
    "                        text = results[0][1]\n",
    "            else: # вариант \"EasyOCR для цифр\"\n",
    "                if text == '' or re.search(r'\\d', text):\n",
    "                    results = reader.readtext(cell_image)\n",
    "                    if len(results) > 0:\n",
    "                        text = results[0][1]\n",
    "\n",
    "            # Добавление текста в список\n",
    "            texts.append(text.replace('|', '').replace('_', '').replace(',', '.'))\n",
    "    \n",
    "    # Исключение пустых строк вначале списка\n",
    "    for text in texts[num_vertical_lines:]:\n",
    "        if text == '':\n",
    "            texts.remove(text)\n",
    "        else:\n",
    "            break\n",
    "        \n",
    "    # Разделение списка по количеству столбцов\n",
    "    texts = [texts[i:i+num_vertical_lines] for i in range(0, len(texts), num_vertical_lines)]\n",
    "    \n",
    "    # Создание датафрейма\n",
    "    try:\n",
    "        df = pd.DataFrame(data=texts[1:], columns=texts[0])\n",
    "        df = df.applymap(lambda x: x.replace('\\n', ''))\n",
    "        df = df.rename(columns=lambda x: re.sub(r'\\s+', ' ', x.replace('\\n', ' ')))\n",
    "    except:\n",
    "        df = pd.DataFrame()\n",
    "    \n",
    "    # Сохранение\n",
    "    df.to_csv(output_path, index=False)\n",
    "\n",
    "    return df"
   ]
  },
  {
   "cell_type": "markdown",
   "metadata": {},
   "source": [
    "### Функция сравнения результатов `compare_tables`"
   ]
  },
  {
   "cell_type": "code",
   "execution_count": 5,
   "metadata": {},
   "outputs": [],
   "source": [
    "# функция сравнения результатов распознавания с реальными значениями\n",
    "# df1 - датасет с реальными значениями\n",
    "# df2 - датасет с результатами распознавания\n",
    "def compare_tables(df1, df2):\n",
    "    # считаем, что правильной является 1 таблица\n",
    "    \n",
    "    num_matching_cells = (df1 == df2).sum().sum()\n",
    "\n",
    "    total_cells = df1.size\n",
    "    \n",
    "    accuracy = num_matching_cells/total_cells\n",
    "    return num_matching_cells, total_cells, accuracy"
   ]
  },
  {
   "cell_type": "markdown",
   "metadata": {},
   "source": [
    "## Основная программа"
   ]
  },
  {
   "cell_type": "code",
   "execution_count": 6,
   "metadata": {},
   "outputs": [],
   "source": [
    "# активация pytesseract\n",
    "pytesseract.pytesseract.tesseract_cmd = 'C:/Program Files/Tesseract-OCR/tesseract.exe'"
   ]
  },
  {
   "cell_type": "code",
   "execution_count": 7,
   "metadata": {},
   "outputs": [
    {
     "name": "stderr",
     "output_type": "stream",
     "text": [
      "CUDA not available - defaulting to CPU. Note: This module is much faster with a GPU.\n",
      "c:\\Users\\Victor\\anaconda3\\lib\\site-packages\\torchvision\\models\\_utils.py:252: UserWarning: Accessing the model URLs via the internal dictionary of the module is deprecated since 0.13 and will be removed in 0.15. Please access them via the appropriate Weights Enum instead.\n",
      "  warnings.warn(\n",
      "c:\\Users\\Victor\\anaconda3\\lib\\site-packages\\torchvision\\models\\_utils.py:208: UserWarning: The parameter 'pretrained' is deprecated since 0.13 and will be removed in 0.15, please use 'weights' instead.\n",
      "  warnings.warn(\n",
      "c:\\Users\\Victor\\anaconda3\\lib\\site-packages\\torchvision\\models\\_utils.py:223: UserWarning: Arguments other than a weight enum or `None` for 'weights' are deprecated since 0.13 and will be removed in 0.15. The current behavior is equivalent to passing `weights=None`.\n",
      "  warnings.warn(msg)\n"
     ]
    }
   ],
   "source": [
    "# активация easyocr\n",
    "reader = easyocr.Reader(['ru'])"
   ]
  },
  {
   "cell_type": "code",
   "execution_count": 13,
   "metadata": {},
   "outputs": [
    {
     "name": "stdout",
     "output_type": "stream",
     "text": [
      "1. Результат распознавания файла 141899 .jpg:\n"
     ]
    },
    {
     "data": {
      "text/html": [
       "<div>\n",
       "<style scoped>\n",
       "    .dataframe tbody tr th:only-of-type {\n",
       "        vertical-align: middle;\n",
       "    }\n",
       "\n",
       "    .dataframe tbody tr th {\n",
       "        vertical-align: top;\n",
       "    }\n",
       "\n",
       "    .dataframe thead th {\n",
       "        text-align: right;\n",
       "    }\n",
       "</style>\n",
       "<table border=\"1\" class=\"dataframe\">\n",
       "  <thead>\n",
       "    <tr style=\"text-align: right;\">\n",
       "      <th></th>\n",
       "      <th>Длка</th>\n",
       "    </tr>\n",
       "  </thead>\n",
       "  <tbody>\n",
       "    <tr>\n",
       "      <th>0</th>\n",
       "      <td>плл90</td>\n",
       "    </tr>\n",
       "    <tr>\n",
       "      <th>1</th>\n",
       "      <td>уон7 л</td>\n",
       "    </tr>\n",
       "    <tr>\n",
       "      <th>2</th>\n",
       "      <td></td>\n",
       "    </tr>\n",
       "    <tr>\n",
       "      <th>3</th>\n",
       "      <td>ЗИ   кадемей</td>\n",
       "    </tr>\n",
       "    <tr>\n",
       "      <th>4</th>\n",
       "      <td>дву@</td>\n",
       "    </tr>\n",
       "    <tr>\n",
       "      <th>5</th>\n",
       "      <td>861[</td>\n",
       "    </tr>\n",
       "    <tr>\n",
       "      <th>6</th>\n",
       "      <td>дети</td>\n",
       "    </tr>\n",
       "    <tr>\n",
       "      <th>7</th>\n",
       "      <td>{8</td>\n",
       "    </tr>\n",
       "  </tbody>\n",
       "</table>\n",
       "</div>"
      ],
      "text/plain": [
       "           Длка\n",
       "0         плл90\n",
       "1        уон7 л\n",
       "2              \n",
       "3  ЗИ   кадемей\n",
       "4          дву@\n",
       "5          861[\n",
       "6          дети\n",
       "7            {8"
      ]
     },
     "metadata": {},
     "output_type": "display_data"
    },
    {
     "name": "stdout",
     "output_type": "stream",
     "text": [
      "Время распознавания файла 141899 .jpg: 192.8 сек. (00:03:12)\n",
      "\n",
      "2. Результат распознавания файла 204119 .jpg:\n"
     ]
    },
    {
     "data": {
      "text/html": [
       "<div>\n",
       "<style scoped>\n",
       "    .dataframe tbody tr th:only-of-type {\n",
       "        vertical-align: middle;\n",
       "    }\n",
       "\n",
       "    .dataframe tbody tr th {\n",
       "        vertical-align: top;\n",
       "    }\n",
       "\n",
       "    .dataframe thead th {\n",
       "        text-align: right;\n",
       "    }\n",
       "</style>\n",
       "<table border=\"1\" class=\"dataframe\">\n",
       "  <thead>\n",
       "    <tr style=\"text-align: right;\">\n",
       "      <th></th>\n",
       "    </tr>\n",
       "  </thead>\n",
       "  <tbody>\n",
       "  </tbody>\n",
       "</table>\n",
       "</div>"
      ],
      "text/plain": [
       "Empty DataFrame\n",
       "Columns: []\n",
       "Index: []"
      ]
     },
     "metadata": {},
     "output_type": "display_data"
    },
    {
     "name": "stdout",
     "output_type": "stream",
     "text": [
      "Время распознавания файла 204119 .jpg: 24.8 сек. (00:00:24)\n",
      "\n",
      "3. Результат распознавания файла 213950.jpg:\n"
     ]
    },
    {
     "data": {
      "text/html": [
       "<div>\n",
       "<style scoped>\n",
       "    .dataframe tbody tr th:only-of-type {\n",
       "        vertical-align: middle;\n",
       "    }\n",
       "\n",
       "    .dataframe tbody tr th {\n",
       "        vertical-align: top;\n",
       "    }\n",
       "\n",
       "    .dataframe thead th {\n",
       "        text-align: right;\n",
       "    }\n",
       "</style>\n",
       "<table border=\"1\" class=\"dataframe\">\n",
       "  <thead>\n",
       "    <tr style=\"text-align: right;\">\n",
       "      <th></th>\n",
       "    </tr>\n",
       "  </thead>\n",
       "  <tbody>\n",
       "  </tbody>\n",
       "</table>\n",
       "</div>"
      ],
      "text/plain": [
       "Empty DataFrame\n",
       "Columns: []\n",
       "Index: []"
      ]
     },
     "metadata": {},
     "output_type": "display_data"
    },
    {
     "name": "stdout",
     "output_type": "stream",
     "text": [
      "Время распознавания файла 213950.jpg: 135.0 сек. (00:02:14)\n",
      "\n",
      "4. Результат распознавания файла 225629 .jpg:\n"
     ]
    },
    {
     "data": {
      "text/html": [
       "<div>\n",
       "<style scoped>\n",
       "    .dataframe tbody tr th:only-of-type {\n",
       "        vertical-align: middle;\n",
       "    }\n",
       "\n",
       "    .dataframe tbody tr th {\n",
       "        vertical-align: top;\n",
       "    }\n",
       "\n",
       "    .dataframe thead th {\n",
       "        text-align: right;\n",
       "    }\n",
       "</style>\n",
       "<table border=\"1\" class=\"dataframe\">\n",
       "  <thead>\n",
       "    <tr style=\"text-align: right;\">\n",
       "      <th></th>\n",
       "    </tr>\n",
       "  </thead>\n",
       "  <tbody>\n",
       "  </tbody>\n",
       "</table>\n",
       "</div>"
      ],
      "text/plain": [
       "Empty DataFrame\n",
       "Columns: []\n",
       "Index: []"
      ]
     },
     "metadata": {},
     "output_type": "display_data"
    },
    {
     "name": "stdout",
     "output_type": "stream",
     "text": [
      "Время распознавания файла 225629 .jpg: 45.8 сек. (00:00:45)\n",
      "\n",
      "5. Результат распознавания файла 227414.jpg:\n"
     ]
    },
    {
     "data": {
      "text/html": [
       "<div>\n",
       "<style scoped>\n",
       "    .dataframe tbody tr th:only-of-type {\n",
       "        vertical-align: middle;\n",
       "    }\n",
       "\n",
       "    .dataframe tbody tr th {\n",
       "        vertical-align: top;\n",
       "    }\n",
       "\n",
       "    .dataframe thead th {\n",
       "        text-align: right;\n",
       "    }\n",
       "</style>\n",
       "<table border=\"1\" class=\"dataframe\">\n",
       "  <thead>\n",
       "    <tr style=\"text-align: right;\">\n",
       "      <th></th>\n",
       "    </tr>\n",
       "  </thead>\n",
       "  <tbody>\n",
       "  </tbody>\n",
       "</table>\n",
       "</div>"
      ],
      "text/plain": [
       "Empty DataFrame\n",
       "Columns: []\n",
       "Index: []"
      ]
     },
     "metadata": {},
     "output_type": "display_data"
    },
    {
     "name": "stdout",
     "output_type": "stream",
     "text": [
      "Время распознавания файла 227414.jpg: 58.2 сек. (00:00:58)\n",
      "\n",
      "6. Результат распознавания файла 228963 .jpg:\n"
     ]
    },
    {
     "data": {
      "text/html": [
       "<div>\n",
       "<style scoped>\n",
       "    .dataframe tbody tr th:only-of-type {\n",
       "        vertical-align: middle;\n",
       "    }\n",
       "\n",
       "    .dataframe tbody tr th {\n",
       "        vertical-align: top;\n",
       "    }\n",
       "\n",
       "    .dataframe thead th {\n",
       "        text-align: right;\n",
       "    }\n",
       "</style>\n",
       "<table border=\"1\" class=\"dataframe\">\n",
       "  <thead>\n",
       "    <tr style=\"text-align: right;\">\n",
       "      <th></th>\n",
       "    </tr>\n",
       "  </thead>\n",
       "  <tbody>\n",
       "  </tbody>\n",
       "</table>\n",
       "</div>"
      ],
      "text/plain": [
       "Empty DataFrame\n",
       "Columns: []\n",
       "Index: []"
      ]
     },
     "metadata": {},
     "output_type": "display_data"
    },
    {
     "name": "stdout",
     "output_type": "stream",
     "text": [
      "Время распознавания файла 228963 .jpg: 94.3 сек. (00:01:34)\n",
      "\n",
      "7. Результат распознавания файла 231820 .jpg:\n"
     ]
    },
    {
     "data": {
      "text/html": [
       "<div>\n",
       "<style scoped>\n",
       "    .dataframe tbody tr th:only-of-type {\n",
       "        vertical-align: middle;\n",
       "    }\n",
       "\n",
       "    .dataframe tbody tr th {\n",
       "        vertical-align: top;\n",
       "    }\n",
       "\n",
       "    .dataframe thead th {\n",
       "        text-align: right;\n",
       "    }\n",
       "</style>\n",
       "<table border=\"1\" class=\"dataframe\">\n",
       "  <thead>\n",
       "    <tr style=\"text-align: right;\">\n",
       "      <th></th>\n",
       "      <th>Дата</th>\n",
       "      <th>Вид дон-ва</th>\n",
       "      <th>Кол-во</th>\n",
       "      <th>Дата</th>\n",
       "      <th>Вид дон-ва</th>\n",
       "      <th>Кол-во</th>\n",
       "      <th>Дата</th>\n",
       "      <th>Вид дон-ва</th>\n",
       "      <th>Кол-во</th>\n",
       "    </tr>\n",
       "  </thead>\n",
       "  <tbody>\n",
       "    <tr>\n",
       "      <th>0</th>\n",
       "      <td>14.02.2006</td>\n",
       "      <td>кр/д (бв)</td>\n",
       "      <td>420</td>\n",
       "      <td>15.07.2016</td>\n",
       "      <td>кр/д (бв)</td>\n",
       "      <td>450</td>\n",
       "      <td>04.08.2018</td>\n",
       "      <td>кр/д (бв)</td>\n",
       "      <td>450</td>\n",
       "    </tr>\n",
       "    <tr>\n",
       "      <th>1</th>\n",
       "      <td>11.06.2014</td>\n",
       "      <td>кр/д (бв)</td>\n",
       "      <td>350</td>\n",
       "      <td>11.10.2016</td>\n",
       "      <td>кр/д (бв)</td>\n",
       "      <td>450</td>\n",
       "      <td>26.12.2018</td>\n",
       "      <td>кр/д (бв)</td>\n",
       "      <td>450</td>\n",
       "    </tr>\n",
       "    <tr>\n",
       "      <th>2</th>\n",
       "      <td>30.10.2014</td>\n",
       "      <td>кр/д (бв)</td>\n",
       "      <td>450</td>\n",
       "      <td>21.12.2016</td>\n",
       "      <td>кр/д (бв)</td>\n",
       "      <td>450</td>\n",
       "      <td>29.03.2019</td>\n",
       "      <td>кр/д (бв)</td>\n",
       "      <td>450</td>\n",
       "    </tr>\n",
       "    <tr>\n",
       "      <th>3</th>\n",
       "      <td>13.08.2015</td>\n",
       "      <td>кр/д (бв)</td>\n",
       "      <td>450</td>\n",
       "      <td>21.06.2017</td>\n",
       "      <td>кр/д (бв)</td>\n",
       "      <td>450</td>\n",
       "      <td>11.10.2022</td>\n",
       "      <td>кр/д (бв)</td>\n",
       "      <td>450</td>\n",
       "    </tr>\n",
       "    <tr>\n",
       "      <th>4</th>\n",
       "      <td>30.10.2015</td>\n",
       "      <td>кр/д (бв)</td>\n",
       "      <td>450</td>\n",
       "      <td></td>\n",
       "      <td></td>\n",
       "      <td></td>\n",
       "      <td></td>\n",
       "      <td></td>\n",
       "      <td></td>\n",
       "    </tr>\n",
       "  </tbody>\n",
       "</table>\n",
       "</div>"
      ],
      "text/plain": [
       "        Дата  Вид дон-ва  Кол-во        Дата  Вид дон-ва  Кол-во        Дата   \\\n",
       "0  14.02.2006   кр/д (бв)     420  15.07.2016   кр/д (бв)     450  04.08.2018   \n",
       "1  11.06.2014   кр/д (бв)     350  11.10.2016   кр/д (бв)     450  26.12.2018   \n",
       "2  30.10.2014   кр/д (бв)     450  21.12.2016   кр/д (бв)     450  29.03.2019   \n",
       "3  13.08.2015  кр/д (бв)      450  21.06.2017   кр/д (бв)     450  11.10.2022   \n",
       "4  30.10.2015   кр/д (бв)     450                                               \n",
       "\n",
       "  Вид дон-ва  Кол-во   \n",
       "0  кр/д (бв)      450  \n",
       "1   кр/д (бв)     450  \n",
       "2   кр/д (бв)     450  \n",
       "3   кр/д (бв)     450  \n",
       "4                      "
      ]
     },
     "metadata": {},
     "output_type": "display_data"
    },
    {
     "name": "stdout",
     "output_type": "stream",
     "text": [
      "Время распознавания файла 231820 .jpg: 37.0 сек. (00:00:36)\n",
      "\n",
      "8. Результат распознавания файла 233749 .jpg:\n"
     ]
    },
    {
     "data": {
      "text/html": [
       "<div>\n",
       "<style scoped>\n",
       "    .dataframe tbody tr th:only-of-type {\n",
       "        vertical-align: middle;\n",
       "    }\n",
       "\n",
       "    .dataframe tbody tr th {\n",
       "        vertical-align: top;\n",
       "    }\n",
       "\n",
       "    .dataframe thead th {\n",
       "        text-align: right;\n",
       "    }\n",
       "</style>\n",
       "<table border=\"1\" class=\"dataframe\">\n",
       "  <thead>\n",
       "    <tr style=\"text-align: right;\">\n",
       "      <th></th>\n",
       "    </tr>\n",
       "  </thead>\n",
       "  <tbody>\n",
       "  </tbody>\n",
       "</table>\n",
       "</div>"
      ],
      "text/plain": [
       "Empty DataFrame\n",
       "Columns: []\n",
       "Index: []"
      ]
     },
     "metadata": {},
     "output_type": "display_data"
    },
    {
     "name": "stdout",
     "output_type": "stream",
     "text": [
      "Время распознавания файла 233749 .jpg: 52.8 сек. (00:00:52)\n",
      "\n",
      "9. Результат распознавания файла 236000 .jpg:\n"
     ]
    },
    {
     "data": {
      "text/html": [
       "<div>\n",
       "<style scoped>\n",
       "    .dataframe tbody tr th:only-of-type {\n",
       "        vertical-align: middle;\n",
       "    }\n",
       "\n",
       "    .dataframe tbody tr th {\n",
       "        vertical-align: top;\n",
       "    }\n",
       "\n",
       "    .dataframe thead th {\n",
       "        text-align: right;\n",
       "    }\n",
       "</style>\n",
       "<table border=\"1\" class=\"dataframe\">\n",
       "  <thead>\n",
       "    <tr style=\"text-align: right;\">\n",
       "      <th></th>\n",
       "    </tr>\n",
       "  </thead>\n",
       "  <tbody>\n",
       "  </tbody>\n",
       "</table>\n",
       "</div>"
      ],
      "text/plain": [
       "Empty DataFrame\n",
       "Columns: []\n",
       "Index: []"
      ]
     },
     "metadata": {},
     "output_type": "display_data"
    },
    {
     "name": "stdout",
     "output_type": "stream",
     "text": [
      "Время распознавания файла 236000 .jpg: 25.2 сек. (00:00:25)\n",
      "\n",
      "10. Результат распознавания файла 238716.jpg:\n"
     ]
    },
    {
     "data": {
      "text/html": [
       "<div>\n",
       "<style scoped>\n",
       "    .dataframe tbody tr th:only-of-type {\n",
       "        vertical-align: middle;\n",
       "    }\n",
       "\n",
       "    .dataframe tbody tr th {\n",
       "        vertical-align: top;\n",
       "    }\n",
       "\n",
       "    .dataframe thead th {\n",
       "        text-align: right;\n",
       "    }\n",
       "</style>\n",
       "<table border=\"1\" class=\"dataframe\">\n",
       "  <thead>\n",
       "    <tr style=\"text-align: right;\">\n",
       "      <th></th>\n",
       "    </tr>\n",
       "  </thead>\n",
       "  <tbody>\n",
       "  </tbody>\n",
       "</table>\n",
       "</div>"
      ],
      "text/plain": [
       "Empty DataFrame\n",
       "Columns: []\n",
       "Index: []"
      ]
     },
     "metadata": {},
     "output_type": "display_data"
    },
    {
     "name": "stdout",
     "output_type": "stream",
     "text": [
      "Время распознавания файла 238716.jpg: 131.9 сек. (00:02:11)\n",
      "\n",
      "11. Результат распознавания файла 243478 .jpg:\n"
     ]
    },
    {
     "data": {
      "text/html": [
       "<div>\n",
       "<style scoped>\n",
       "    .dataframe tbody tr th:only-of-type {\n",
       "        vertical-align: middle;\n",
       "    }\n",
       "\n",
       "    .dataframe tbody tr th {\n",
       "        vertical-align: top;\n",
       "    }\n",
       "\n",
       "    .dataframe thead th {\n",
       "        text-align: right;\n",
       "    }\n",
       "</style>\n",
       "<table border=\"1\" class=\"dataframe\">\n",
       "  <thead>\n",
       "    <tr style=\"text-align: right;\">\n",
       "      <th></th>\n",
       "    </tr>\n",
       "  </thead>\n",
       "  <tbody>\n",
       "  </tbody>\n",
       "</table>\n",
       "</div>"
      ],
      "text/plain": [
       "Empty DataFrame\n",
       "Columns: []\n",
       "Index: []"
      ]
     },
     "metadata": {},
     "output_type": "display_data"
    },
    {
     "name": "stdout",
     "output_type": "stream",
     "text": [
      "Время распознавания файла 243478 .jpg: 263.7 сек. (00:04:23)\n",
      "\n",
      "12. Результат распознавания файла 245365 .jpg:\n"
     ]
    },
    {
     "data": {
      "text/html": [
       "<div>\n",
       "<style scoped>\n",
       "    .dataframe tbody tr th:only-of-type {\n",
       "        vertical-align: middle;\n",
       "    }\n",
       "\n",
       "    .dataframe tbody tr th {\n",
       "        vertical-align: top;\n",
       "    }\n",
       "\n",
       "    .dataframe thead th {\n",
       "        text-align: right;\n",
       "    }\n",
       "</style>\n",
       "<table border=\"1\" class=\"dataframe\">\n",
       "  <thead>\n",
       "    <tr style=\"text-align: right;\">\n",
       "      <th></th>\n",
       "    </tr>\n",
       "  </thead>\n",
       "  <tbody>\n",
       "  </tbody>\n",
       "</table>\n",
       "</div>"
      ],
      "text/plain": [
       "Empty DataFrame\n",
       "Columns: []\n",
       "Index: []"
      ]
     },
     "metadata": {},
     "output_type": "display_data"
    },
    {
     "name": "stdout",
     "output_type": "stream",
     "text": [
      "Время распознавания файла 245365 .jpg: 153.6 сек. (00:02:33)\n",
      "\n",
      "13. Результат распознавания файла 254586 .jpg:\n"
     ]
    },
    {
     "data": {
      "text/html": [
       "<div>\n",
       "<style scoped>\n",
       "    .dataframe tbody tr th:only-of-type {\n",
       "        vertical-align: middle;\n",
       "    }\n",
       "\n",
       "    .dataframe tbody tr th {\n",
       "        vertical-align: top;\n",
       "    }\n",
       "\n",
       "    .dataframe thead th {\n",
       "        text-align: right;\n",
       "    }\n",
       "</style>\n",
       "<table border=\"1\" class=\"dataframe\">\n",
       "  <thead>\n",
       "    <tr style=\"text-align: right;\">\n",
       "      <th></th>\n",
       "      <th>полкв0</th>\n",
       "      <th>ВВд</th>\n",
       "      <th>ны</th>\n",
       "      <th>800-90</th>\n",
       "      <th>Вид `дон-ва.</th>\n",
       "      <th>дете</th>\n",
       "      <th>Кол-во</th>\n",
       "      <th>Вид. ‘дон-ва</th>\n",
       "      <th>Цаа</th>\n",
       "    </tr>\n",
       "  </thead>\n",
       "  <tbody>\n",
       "  </tbody>\n",
       "</table>\n",
       "</div>"
      ],
      "text/plain": [
       "Empty DataFrame\n",
       "Columns: [полкв0, ВВд, ны , 800-90, Вид `дон-ва. , дете , Кол-во , Вид. ‘дон-ва , Цаа]\n",
       "Index: []"
      ]
     },
     "metadata": {},
     "output_type": "display_data"
    },
    {
     "name": "stdout",
     "output_type": "stream",
     "text": [
      "Время распознавания файла 254586 .jpg: 10.9 сек. (00:00:10)\n",
      "\n",
      "14. Результат распознавания файла 256578 .jpg:\n"
     ]
    },
    {
     "data": {
      "text/html": [
       "<div>\n",
       "<style scoped>\n",
       "    .dataframe tbody tr th:only-of-type {\n",
       "        vertical-align: middle;\n",
       "    }\n",
       "\n",
       "    .dataframe tbody tr th {\n",
       "        vertical-align: top;\n",
       "    }\n",
       "\n",
       "    .dataframe thead th {\n",
       "        text-align: right;\n",
       "    }\n",
       "</style>\n",
       "<table border=\"1\" class=\"dataframe\">\n",
       "  <thead>\n",
       "    <tr style=\"text-align: right;\">\n",
       "      <th></th>\n",
       "      <th>810@</th>\n",
       "    </tr>\n",
       "  </thead>\n",
       "  <tbody>\n",
       "    <tr>\n",
       "      <th>0</th>\n",
       "      <td>Дошрче о  нвю тя</td>\n",
       "    </tr>\n",
       "    <tr>\n",
       "      <th>1</th>\n",
       "      <td>979{0</td>\n",
       "    </tr>\n",
       "    <tr>\n",
       "      <th>2</th>\n",
       "      <td></td>\n",
       "    </tr>\n",
       "    <tr>\n",
       "      <th>3</th>\n",
       "      <td></td>\n",
       "    </tr>\n",
       "    <tr>\n",
       "      <th>4</th>\n",
       "      <td>же</td>\n",
       "    </tr>\n",
       "    <tr>\n",
       "      <th>5</th>\n",
       "      <td>п2</td>\n",
       "    </tr>\n",
       "    <tr>\n",
       "      <th>6</th>\n",
       "      <td></td>\n",
       "    </tr>\n",
       "    <tr>\n",
       "      <th>7</th>\n",
       "      <td>Н</td>\n",
       "    </tr>\n",
       "    <tr>\n",
       "      <th>8</th>\n",
       "      <td>дооов.</td>\n",
       "    </tr>\n",
       "    <tr>\n",
       "      <th>9</th>\n",
       "      <td></td>\n",
       "    </tr>\n",
       "    <tr>\n",
       "      <th>10</th>\n",
       "      <td>Дуо</td>\n",
       "    </tr>\n",
       "    <tr>\n",
       "      <th>11</th>\n",
       "      <td></td>\n",
       "    </tr>\n",
       "  </tbody>\n",
       "</table>\n",
       "</div>"
      ],
      "text/plain": [
       "                810@\n",
       "0   Дошрче о  нвю тя\n",
       "1              979{0\n",
       "2                   \n",
       "3                   \n",
       "4                 же\n",
       "5                 п2\n",
       "6                   \n",
       "7                  Н\n",
       "8             дооов.\n",
       "9                   \n",
       "10               Дуо\n",
       "11                  "
      ]
     },
     "metadata": {},
     "output_type": "display_data"
    },
    {
     "name": "stdout",
     "output_type": "stream",
     "text": [
      "Время распознавания файла 256578 .jpg: 93.0 сек. (00:01:32)\n",
      "\n",
      "15. Результат распознавания файла 256838.jpg:\n"
     ]
    },
    {
     "data": {
      "text/html": [
       "<div>\n",
       "<style scoped>\n",
       "    .dataframe tbody tr th:only-of-type {\n",
       "        vertical-align: middle;\n",
       "    }\n",
       "\n",
       "    .dataframe tbody tr th {\n",
       "        vertical-align: top;\n",
       "    }\n",
       "\n",
       "    .dataframe thead th {\n",
       "        text-align: right;\n",
       "    }\n",
       "</style>\n",
       "<table border=\"1\" class=\"dataframe\">\n",
       "  <thead>\n",
       "    <tr style=\"text-align: right;\">\n",
       "      <th></th>\n",
       "    </tr>\n",
       "  </thead>\n",
       "  <tbody>\n",
       "  </tbody>\n",
       "</table>\n",
       "</div>"
      ],
      "text/plain": [
       "Empty DataFrame\n",
       "Columns: []\n",
       "Index: []"
      ]
     },
     "metadata": {},
     "output_type": "display_data"
    },
    {
     "name": "stdout",
     "output_type": "stream",
     "text": [
      "Время распознавания файла 256838.jpg: 21.1 сек. (00:00:21)\n",
      "\n",
      "CPU times: total: 1h 27min 11s\n",
      "Wall time: 22min 20s\n"
     ]
    }
   ],
   "source": [
    "%%time\n",
    "# формирование списков изображений и тестовых csv, находящихся в подпапке test\n",
    "path_file = r'test\\\\'\n",
    "files_jpg = []\n",
    "files_csv = []\n",
    "for file in sorted(os.listdir(path_file)):\n",
    "    if file.endswith('.jpg'):\n",
    "        files_jpg.append(file)\n",
    "    elif file.endswith('.csv'):\n",
    "        files_csv.append(file)\n",
    "\n",
    "for i in range(len(files_jpg)):\n",
    "    # засекаем время\n",
    "    start_time = time.time()\n",
    "    # вызов функции вырезания таблицы\n",
    "    tabl = crop_img(path_file+files_jpg[i], path_file+files_jpg[i][:-4]+'_tabl.jpg')\n",
    "    # вызов функции распознавания\n",
    "    df = img2table(tabl, path_file+files_jpg[i][:-4]+'_rezult.csv')\n",
    "    # подсчет времени выполнения\n",
    "    time_fit = time.time() - start_time\n",
    "    # отображение распознанной информации\n",
    "    print(f'{i+1}. Результат распознавания файла {files_jpg[i]}:')\n",
    "    display(df)\n",
    "    print(f'Время распознавания файла {files_jpg[i]}: {time_fit:0.1f} сек. ({time.strftime(\"%H:%M:%S\", time.gmtime(time_fit))})\\n')\n",
    "    # вызов функции обработки проверочного csv"
   ]
  },
  {
   "cell_type": "code",
   "execution_count": null,
   "metadata": {},
   "outputs": [],
   "source": []
  },
  {
   "cell_type": "markdown",
   "metadata": {},
   "source": [
    "### Дальше можно не смотреть, это остатки предыдущего `main` для 1 изображения"
   ]
  },
  {
   "cell_type": "code",
   "execution_count": 26,
   "metadata": {},
   "outputs": [
    {
     "name": "stdout",
     "output_type": "stream",
     "text": [
      "Распознанная информация:\n"
     ]
    },
    {
     "data": {
      "text/html": [
       "<div>\n",
       "<style scoped>\n",
       "    .dataframe tbody tr th:only-of-type {\n",
       "        vertical-align: middle;\n",
       "    }\n",
       "\n",
       "    .dataframe tbody tr th {\n",
       "        vertical-align: top;\n",
       "    }\n",
       "\n",
       "    .dataframe thead th {\n",
       "        text-align: right;\n",
       "    }\n",
       "</style>\n",
       "<table border=\"1\" class=\"dataframe\">\n",
       "  <thead>\n",
       "    <tr style=\"text-align: right;\">\n",
       "      <th></th>\n",
       "      <th>Дата</th>\n",
       "      <th>Вид дон-ва</th>\n",
       "      <th>Кол-во</th>\n",
       "      <th>Дата</th>\n",
       "      <th>Вид дон-ва</th>\n",
       "      <th>Кол-во</th>\n",
       "      <th>Дата</th>\n",
       "      <th>Вид дон-ва</th>\n",
       "      <th>Кол-во</th>\n",
       "    </tr>\n",
       "  </thead>\n",
       "  <tbody>\n",
       "    <tr>\n",
       "      <th>0</th>\n",
       "      <td>14.02.2006</td>\n",
       "      <td>кр/д (бв)</td>\n",
       "      <td>420</td>\n",
       "      <td>15.07.2016</td>\n",
       "      <td>кр/д (бв)</td>\n",
       "      <td>450</td>\n",
       "      <td>04.08.2018</td>\n",
       "      <td>кр/д (бв)</td>\n",
       "      <td>450</td>\n",
       "    </tr>\n",
       "    <tr>\n",
       "      <th>1</th>\n",
       "      <td>11.06.2014</td>\n",
       "      <td>кр/д (бв)</td>\n",
       "      <td>350</td>\n",
       "      <td>11.10.2016</td>\n",
       "      <td>кр/д (бв)</td>\n",
       "      <td>450</td>\n",
       "      <td>26.12.2018</td>\n",
       "      <td>кр/д (бв)</td>\n",
       "      <td>450</td>\n",
       "    </tr>\n",
       "    <tr>\n",
       "      <th>2</th>\n",
       "      <td>30.10.2014</td>\n",
       "      <td>кр/д (бв)</td>\n",
       "      <td>450</td>\n",
       "      <td>21.12.2016</td>\n",
       "      <td>кр/д (бв)</td>\n",
       "      <td>450</td>\n",
       "      <td>29.03.2019</td>\n",
       "      <td>кр/д (бв)</td>\n",
       "      <td>450</td>\n",
       "    </tr>\n",
       "    <tr>\n",
       "      <th>3</th>\n",
       "      <td>13.08.2015</td>\n",
       "      <td>кр/д (бв)</td>\n",
       "      <td>450</td>\n",
       "      <td>21.06.2017</td>\n",
       "      <td>кр/д (бв)</td>\n",
       "      <td>450</td>\n",
       "      <td>11.10.2022</td>\n",
       "      <td>кр/д (бв)</td>\n",
       "      <td>450</td>\n",
       "    </tr>\n",
       "    <tr>\n",
       "      <th>4</th>\n",
       "      <td>30.10.2015</td>\n",
       "      <td>кр/д (бв)</td>\n",
       "      <td>450</td>\n",
       "      <td></td>\n",
       "      <td></td>\n",
       "      <td></td>\n",
       "      <td></td>\n",
       "      <td></td>\n",
       "      <td></td>\n",
       "    </tr>\n",
       "  </tbody>\n",
       "</table>\n",
       "</div>"
      ],
      "text/plain": [
       "        Дата  Вид дон-ва  Кол-во        Дата  Вид дон-ва  Кол-во        Дата   \\\n",
       "0  14.02.2006   кр/д (бв)     420  15.07.2016   кр/д (бв)     450  04.08.2018   \n",
       "1  11.06.2014   кр/д (бв)     350  11.10.2016   кр/д (бв)     450  26.12.2018   \n",
       "2  30.10.2014   кр/д (бв)     450  21.12.2016   кр/д (бв)     450  29.03.2019   \n",
       "3  13.08.2015  кр/д (бв)      450  21.06.2017   кр/д (бв)     450  11.10.2022   \n",
       "4  30.10.2015   кр/д (бв)     450                                               \n",
       "\n",
       "  Вид дон-ва  Кол-во   \n",
       "0  кр/д (бв)      450  \n",
       "1   кр/д (бв)     450  \n",
       "2   кр/д (бв)     450  \n",
       "3   кр/д (бв)     450  \n",
       "4                      "
      ]
     },
     "metadata": {},
     "output_type": "display_data"
    }
   ],
   "source": [
    "# вызов функции вырезания таблицы из изображения\n",
    "crop_img(img_path, tabl_temp)\n",
    "\n",
    "# вызов функции распознавания (возвращает датафрейм df)\n",
    "df = img2table('tabl_temp.jpg', easy_dig_path)\n",
    "\n",
    "# отображение распознанной информации\n",
    "print('Распознанная информация:')\n",
    "display(df)"
   ]
  },
  {
   "cell_type": "code",
   "execution_count": 27,
   "metadata": {},
   "outputs": [
    {
     "name": "stdout",
     "output_type": "stream",
     "text": [
      "Проверочная информация:\n"
     ]
    },
    {
     "data": {
      "text/html": [
       "<div>\n",
       "<style scoped>\n",
       "    .dataframe tbody tr th:only-of-type {\n",
       "        vertical-align: middle;\n",
       "    }\n",
       "\n",
       "    .dataframe tbody tr th {\n",
       "        vertical-align: top;\n",
       "    }\n",
       "\n",
       "    .dataframe thead th {\n",
       "        text-align: right;\n",
       "    }\n",
       "</style>\n",
       "<table border=\"1\" class=\"dataframe\">\n",
       "  <thead>\n",
       "    <tr style=\"text-align: right;\">\n",
       "      <th></th>\n",
       "      <th>Дата</th>\n",
       "      <th>Вид дон-ва</th>\n",
       "      <th>Количество</th>\n",
       "      <th>Дата.1</th>\n",
       "      <th>Вид дон-ва.1</th>\n",
       "      <th>Количество.1</th>\n",
       "      <th>Дата.2</th>\n",
       "      <th>Вид дон-ва.2</th>\n",
       "      <th>Количество.2</th>\n",
       "    </tr>\n",
       "  </thead>\n",
       "  <tbody>\n",
       "    <tr>\n",
       "      <th>0</th>\n",
       "      <td>1</td>\n",
       "      <td>2</td>\n",
       "      <td>3</td>\n",
       "      <td>4</td>\n",
       "      <td>5</td>\n",
       "      <td>6</td>\n",
       "      <td>7</td>\n",
       "      <td>8</td>\n",
       "      <td>9</td>\n",
       "    </tr>\n",
       "    <tr>\n",
       "      <th>1</th>\n",
       "      <td>14.02.2006</td>\n",
       "      <td>кр/д (бв)</td>\n",
       "      <td>420</td>\n",
       "      <td>15.07.2016</td>\n",
       "      <td>кр/д (бв)</td>\n",
       "      <td>450</td>\n",
       "      <td>04.08.2018</td>\n",
       "      <td>кр/д (бв)</td>\n",
       "      <td>450</td>\n",
       "    </tr>\n",
       "    <tr>\n",
       "      <th>2</th>\n",
       "      <td>11.06.2014</td>\n",
       "      <td>кр/д (бв)</td>\n",
       "      <td>350</td>\n",
       "      <td>11.10.2016</td>\n",
       "      <td>кр/д (бв)</td>\n",
       "      <td>450</td>\n",
       "      <td>26.12.2018</td>\n",
       "      <td>кр/д (бв)</td>\n",
       "      <td>450</td>\n",
       "    </tr>\n",
       "    <tr>\n",
       "      <th>3</th>\n",
       "      <td>30.10.2014</td>\n",
       "      <td>кр/д (бв)</td>\n",
       "      <td>450</td>\n",
       "      <td>21.12.2016</td>\n",
       "      <td>кр/д (бв)</td>\n",
       "      <td>450</td>\n",
       "      <td>29.03.2019</td>\n",
       "      <td>кр/д (бв)</td>\n",
       "      <td>450</td>\n",
       "    </tr>\n",
       "    <tr>\n",
       "      <th>4</th>\n",
       "      <td>13.08.2015</td>\n",
       "      <td>кр/д (бв)</td>\n",
       "      <td>450</td>\n",
       "      <td>21.06.2017</td>\n",
       "      <td>кр/д (бв)</td>\n",
       "      <td>450</td>\n",
       "      <td>11.10.2022</td>\n",
       "      <td>кр/д (бв)</td>\n",
       "      <td>450</td>\n",
       "    </tr>\n",
       "    <tr>\n",
       "      <th>5</th>\n",
       "      <td>30.10.2015</td>\n",
       "      <td>кр/д (бв)</td>\n",
       "      <td>450</td>\n",
       "      <td>NaN</td>\n",
       "      <td>NaN</td>\n",
       "      <td>NaN</td>\n",
       "      <td>NaN</td>\n",
       "      <td>NaN</td>\n",
       "      <td>NaN</td>\n",
       "    </tr>\n",
       "  </tbody>\n",
       "</table>\n",
       "</div>"
      ],
      "text/plain": [
       "         Дата Вид дон-ва Количество      Дата.1 Вид дон-ва.1 Количество.1  \\\n",
       "0           1          2          3           4            5            6   \n",
       "1  14.02.2006  кр/д (бв)        420  15.07.2016    кр/д (бв)          450   \n",
       "2  11.06.2014  кр/д (бв)        350  11.10.2016    кр/д (бв)          450   \n",
       "3  30.10.2014  кр/д (бв)        450  21.12.2016    кр/д (бв)          450   \n",
       "4  13.08.2015  кр/д (бв)        450  21.06.2017    кр/д (бв)          450   \n",
       "5  30.10.2015  кр/д (бв)        450         NaN          NaN          NaN   \n",
       "\n",
       "       Дата.2 Вид дон-ва.2 Количество.2  \n",
       "0           7            8            9  \n",
       "1  04.08.2018    кр/д (бв)          450  \n",
       "2  26.12.2018    кр/д (бв)          450  \n",
       "3  29.03.2019    кр/д (бв)          450  \n",
       "4  11.10.2022    кр/д (бв)          450  \n",
       "5         NaN          NaN          NaN  "
      ]
     },
     "metadata": {},
     "output_type": "display_data"
    }
   ],
   "source": [
    "# загрузка и отображение проверочной информации\n",
    "df_test = pd.read_csv('tablica1.csv', header=0, dtype = 'str')\n",
    "print('Проверочная информация:')\n",
    "display(df_test)"
   ]
  },
  {
   "cell_type": "code",
   "execution_count": 28,
   "metadata": {},
   "outputs": [
    {
     "name": "stdout",
     "output_type": "stream",
     "text": [
      "Корректно распознанных ячеек: 100.00 %.\n"
     ]
    }
   ],
   "source": [
    "# замена NaN, удаление первой строки с номерами столбцов и реиндексация в проверочном датасете\n",
    "df_test.fillna('', inplace=True)\n",
    "df_test = df_test.drop(labels=0, axis = 0).reset_index(drop=True)\n",
    "\n",
    "# переименование столбцов в распознанном и проверочном датафреймах, чтобы совпадали\n",
    "df.columns = [str(x) for x in list(range(9))]\n",
    "df_test.columns = [str(x) for x in list(range(9))]\n",
    "\n",
    "# удаление пробелов в ячейках\n",
    "df = df.applymap(lambda x: x.replace(' ', ''))\n",
    "df_test = df_test.applymap(lambda x: x.replace(' ', ''))\n",
    "\n",
    "# вызов функции сравнения результата распознавания\n",
    "num_matching_cells, total_cells, accuracy = compare_tables(df_test, df)\n",
    "\n",
    "# вывод результата сверки\n",
    "print(f'Корректно распознанных ячеек: {accuracy*100:0.2f} %.')"
   ]
  }
 ],
 "metadata": {
  "kernelspec": {
   "display_name": "Python 3 (ipykernel)",
   "language": "python",
   "name": "python3"
  },
  "language_info": {
   "codemirror_mode": {
    "name": "ipython",
    "version": 3
   },
   "file_extension": ".py",
   "mimetype": "text/x-python",
   "name": "python",
   "nbconvert_exporter": "python",
   "pygments_lexer": "ipython3",
   "version": "3.10.12"
  },
  "vscode": {
   "interpreter": {
    "hash": "998d7648dd755371a7ba8fe881a42807a5528e9c57c793fb17dd78daafcc3440"
   }
  }
 },
 "nbformat": 4,
 "nbformat_minor": 4
}
